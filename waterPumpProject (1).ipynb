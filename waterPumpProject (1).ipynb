{
  "nbformat": 4,
  "nbformat_minor": 0,
  "metadata": {
    "colab": {
      "name": "waterPumpProject.ipynb",
      "provenance": [],
      "toc_visible": true
    },
    "kernelspec": {
      "name": "python3",
      "display_name": "Python 3"
    }
  },
  "cells": [
    {
      "cell_type": "markdown",
      "metadata": {
        "id": "Ao88RoZs85ag",
        "colab_type": "text"
      },
      "source": [
        "# project proposal\n",
        "\n",
        "Proposal questions:\n",
        "1.\tThe objective of this problem is to be able to predict whether a water pump is functional, functional with need of repair, or non-functional using the Taarifa and Tanzanian Ministry of Water datasets.\n",
        "2.\tThe solution will be used to focus on certain aspects regarding the pumps to maximize the amount of functional pumps in Tanzania at a given time.\n",
        "3.\tThe current solution is to just fix the pumps as they break.\n",
        "4.\t I should frame this problem by trying to build a model based on the feature variables that have the biggest influence on whether a pump is functional, functional with need of repair, or non-functional.\n",
        "5.\tToday I had a discussion with Dr. Tumlison regarding my dataset.  Some of the main feature variables we had a discussion on were the extraction_type and the source_type.  Dr. Tumlison and I discussed how there is a good chance that the extraction type used is correlated with the type of water source in some fashion (see correlation heatmap below).\n",
        "6.\tFunder, installer, and amount_tsh look very interesting to me for predicting the functionality of the pumps.  It appears that none of these feature variables are highly correlated with each other (see correlation heatmap below), so overfitting due to highly correlated feature variables would not be a problem when using these three variables.  Funder and installer are both inbalanced (see code section below), so actions will need to be taken in order to balance the classes to prevent overfitting.  I believe this is part of the reason why overfitting is occuring in my current decision tree classifier model.\n",
        "\n",
        "(Data accessed on 10/1/2019 from driven data competion site)\n",
        "\n",
        "[DrivenData water pump data download site](https://www.drivendata.org/competitions/7/pump-it-up-data-mining-the-water-table/data/)\n",
        "\n",
        "\n",
        "| variable          | description                                              |\n",
        "|-------------------|----------------------------------------------------------|\n",
        "| amount_tsh        | Total static head (amount water available to waterpoint) |\n",
        "| date_recorded     | The date the row was entered                             |\n",
        "| funder            | Who funded the well                                      |\n",
        "| gps_height        | Altitude of the well                                     |\n",
        "| installer         | Organization that installed the well                     |\n",
        "| longitude         | GPS coordinate                                           |\n",
        "| latitude          | GPS coordinate                                           |\n",
        "| wpt_name          | Name of the waterpoint if there is one                   |\n",
        "| basin             | Geographic water basin                                   |\n",
        "| subvillage        | Subvillage geographic location                           |\n",
        "| region            | Region geographic location                               |\n",
        "| region_code       | Region geographic location (coded)                       |\n",
        "| population        | Population around the well                               |\n",
        "| public_meeting    | True/False                                               |\n",
        "| scheme_management | Who operates the waterpoint                              |\n",
        "| scheme_name       | Who operates the waterpoint                              |\n",
        "| permit            | If the waterpoint is permitted                           |\n",
        "| extraction_type   | The kind of extraction the waterpoint uses               |\n",
        "| management        | How the waterpoint is managed                            |\n",
        "| payment           | What the water costs                                     |\n",
        "| water_quality     | The quality of the water                                 |\n",
        "| quantity          | The quantity of water                                    |\n",
        "| source_type            | The source of the water                                  |\n"
      ]
    },
    {
      "cell_type": "code",
      "metadata": {
        "id": "k5JJHnh4FiwY",
        "colab_type": "code",
        "colab": {}
      },
      "source": [
        "import pandas as pd\n",
        "from sklearn.tree import DecisionTreeClassifier\n",
        "from sklearn.ensemble import RandomForestClassifier\n",
        "import numpy as np\n",
        "import seaborn as sns\n",
        "from sklearn import preprocessing\n",
        "import matplotlib.pyplot as plt\n",
        "from sklearn.model_selection import train_test_split\n",
        "from yellowbrick.model_selection import ValidationCurve\n",
        "from sklearn.model_selection import GridSearchCV\n",
        "%matplotlib inline\n",
        "\n",
        "np.random.seed(42)"
      ],
      "execution_count": 0,
      "outputs": []
    },
    {
      "cell_type": "code",
      "metadata": {
        "id": "Z7r03x87Fk6s",
        "colab_type": "code",
        "colab": {}
      },
      "source": [
        "X_train = pd.read_csv('X_train.csv', delimiter=',')\n",
        "y_train = pd.read_csv('y_train.csv', delimiter=',')\n",
        "X_test = pd.read_csv('X_test.csv', delimiter=',')\n",
        "to_drop = [\"id\",\"date_recorded\",\"wpt_name\",\"recorded_by\",\"num_private\",\"region\",\"longitude\",\"latitude\",\"subvillage\",\"lga\",\"ward\",\"scheme_name\",\"extraction_type_class\",\"extraction_type_group\",\"management_group\",\"payment\",\"quantity\",\"water_quality\", \"source\",\"source_class\",\"waterpoint_type\",\"waterpoint_type_group\",]\n",
        "water_pump = pd.merge(X_train, y_train, on='id')\n",
        "water_pump_remove_na = water_pump.dropna(subset=['funder', 'installer','public_meeting', 'scheme_management'])\n",
        "target_vector_class = water_pump['status_group']\n",
        "target_vector_reg = water_pump['amount_tsh']"
      ],
      "execution_count": 0,
      "outputs": []
    },
    {
      "cell_type": "code",
      "metadata": {
        "id": "RqEGraoaAFvO",
        "colab_type": "code",
        "outputId": "80035563-f14b-434e-d028-c5edbc25b23c",
        "colab": {
          "base_uri": "https://localhost:8080/",
          "height": 790
        }
      },
      "source": [
        "water_pump.info()"
      ],
      "execution_count": 0,
      "outputs": [
        {
          "output_type": "stream",
          "text": [
            "<class 'pandas.core.frame.DataFrame'>\n",
            "Int64Index: 118800 entries, 0 to 59399\n",
            "Data columns (total 41 columns):\n",
            "amount_tsh               59400 non-null float64\n",
            "basin                    59400 non-null object\n",
            "construction_year        59400 non-null float64\n",
            "date_recorded            59400 non-null object\n",
            "district_code            59400 non-null float64\n",
            "extraction_type          59400 non-null object\n",
            "extraction_type_class    59400 non-null object\n",
            "extraction_type_group    59400 non-null object\n",
            "funder                   55765 non-null object\n",
            "gps_height               59400 non-null float64\n",
            "id                       118800 non-null int64\n",
            "installer                55745 non-null object\n",
            "latitude                 59400 non-null float64\n",
            "lga                      59400 non-null object\n",
            "longitude                59400 non-null float64\n",
            "management               59400 non-null object\n",
            "management_group         59400 non-null object\n",
            "num_private              59400 non-null float64\n",
            "payment                  59400 non-null object\n",
            "payment_type             59400 non-null object\n",
            "permit                   56344 non-null object\n",
            "population               59400 non-null float64\n",
            "public_meeting           56066 non-null object\n",
            "quality_group            59400 non-null object\n",
            "quantity                 59400 non-null object\n",
            "quantity_group           59400 non-null object\n",
            "recorded_by              59400 non-null object\n",
            "region                   59400 non-null object\n",
            "region_code              59400 non-null float64\n",
            "scheme_management        55523 non-null object\n",
            "scheme_name              31234 non-null object\n",
            "source                   59400 non-null object\n",
            "source_class             59400 non-null object\n",
            "source_type              59400 non-null object\n",
            "status_group             59400 non-null object\n",
            "subvillage               59029 non-null object\n",
            "ward                     59400 non-null object\n",
            "water_quality            59400 non-null object\n",
            "waterpoint_type          59400 non-null object\n",
            "waterpoint_type_group    59400 non-null object\n",
            "wpt_name                 59400 non-null object\n",
            "dtypes: float64(9), int64(1), object(31)\n",
            "memory usage: 38.1+ MB\n"
          ],
          "name": "stdout"
        }
      ]
    },
    {
      "cell_type": "code",
      "metadata": {
        "id": "6ecpWWCbAFq-",
        "colab_type": "code",
        "colab": {}
      },
      "source": [
        ""
      ],
      "execution_count": 0,
      "outputs": []
    },
    {
      "cell_type": "code",
      "metadata": {
        "id": "pBvQ9-mX8zyf",
        "colab_type": "code",
        "outputId": "afe83528-9339-48b7-9c05-4df95f7d1555",
        "colab": {
          "base_uri": "https://localhost:8080/",
          "height": 722
        }
      },
      "source": [
        "water_pump.isnull().sum()"
      ],
      "execution_count": 0,
      "outputs": [
        {
          "output_type": "execute_result",
          "data": {
            "text/plain": [
              "amount_tsh               59400\n",
              "basin                    59400\n",
              "construction_year        59400\n",
              "date_recorded            59400\n",
              "district_code            59400\n",
              "extraction_type          59400\n",
              "extraction_type_class    59400\n",
              "extraction_type_group    59400\n",
              "funder                   63035\n",
              "gps_height               59400\n",
              "id                           0\n",
              "installer                63055\n",
              "latitude                 59400\n",
              "lga                      59400\n",
              "longitude                59400\n",
              "management               59400\n",
              "management_group         59400\n",
              "num_private              59400\n",
              "payment                  59400\n",
              "payment_type             59400\n",
              "permit                   62456\n",
              "population               59400\n",
              "public_meeting           62734\n",
              "quality_group            59400\n",
              "quantity                 59400\n",
              "quantity_group           59400\n",
              "recorded_by              59400\n",
              "region                   59400\n",
              "region_code              59400\n",
              "scheme_management        63277\n",
              "scheme_name              87566\n",
              "source                   59400\n",
              "source_class             59400\n",
              "source_type              59400\n",
              "status_group             59400\n",
              "subvillage               59771\n",
              "ward                     59400\n",
              "water_quality            59400\n",
              "waterpoint_type          59400\n",
              "waterpoint_type_group    59400\n",
              "wpt_name                 59400\n",
              "dtype: int64"
            ]
          },
          "metadata": {
            "tags": []
          },
          "execution_count": 58
        }
      ]
    },
    {
      "cell_type": "code",
      "metadata": {
        "id": "aqwq2scy5ASo",
        "colab_type": "code",
        "colab": {}
      },
      "source": [
        "water_pump.dropna(subset=['funder', 'installer', 'longitude', 'latitude'],inplace=True)"
      ],
      "execution_count": 0,
      "outputs": []
    },
    {
      "cell_type": "code",
      "metadata": {
        "id": "5u58jNxG-2FH",
        "colab_type": "code",
        "outputId": "54128ea3-5ea2-4d56-cda9-d5357592e33f",
        "colab": {
          "base_uri": "https://localhost:8080/",
          "height": 790
        }
      },
      "source": [
        "water_pump.info()"
      ],
      "execution_count": 0,
      "outputs": [
        {
          "output_type": "stream",
          "text": [
            "<class 'pandas.core.frame.DataFrame'>\n",
            "Int64Index: 0 entries\n",
            "Data columns (total 41 columns):\n",
            "amount_tsh               0 non-null float64\n",
            "basin                    0 non-null object\n",
            "construction_year        0 non-null float64\n",
            "date_recorded            0 non-null object\n",
            "district_code            0 non-null float64\n",
            "extraction_type          0 non-null object\n",
            "extraction_type_class    0 non-null object\n",
            "extraction_type_group    0 non-null object\n",
            "funder                   0 non-null object\n",
            "gps_height               0 non-null float64\n",
            "id                       0 non-null int64\n",
            "installer                0 non-null object\n",
            "latitude                 0 non-null float64\n",
            "lga                      0 non-null object\n",
            "longitude                0 non-null float64\n",
            "management               0 non-null object\n",
            "management_group         0 non-null object\n",
            "num_private              0 non-null float64\n",
            "payment                  0 non-null object\n",
            "payment_type             0 non-null object\n",
            "permit                   0 non-null object\n",
            "population               0 non-null float64\n",
            "public_meeting           0 non-null object\n",
            "quality_group            0 non-null object\n",
            "quantity                 0 non-null object\n",
            "quantity_group           0 non-null object\n",
            "recorded_by              0 non-null object\n",
            "region                   0 non-null object\n",
            "region_code              0 non-null float64\n",
            "scheme_management        0 non-null object\n",
            "scheme_name              0 non-null object\n",
            "source                   0 non-null object\n",
            "source_class             0 non-null object\n",
            "source_type              0 non-null object\n",
            "status_group             0 non-null object\n",
            "subvillage               0 non-null object\n",
            "ward                     0 non-null object\n",
            "water_quality            0 non-null object\n",
            "waterpoint_type          0 non-null object\n",
            "waterpoint_type_group    0 non-null object\n",
            "wpt_name                 0 non-null object\n",
            "dtypes: float64(9), int64(1), object(31)\n",
            "memory usage: 0.0+ bytes\n"
          ],
          "name": "stdout"
        }
      ]
    },
    {
      "cell_type": "code",
      "metadata": {
        "id": "j3WHQTf08MNk",
        "colab_type": "code",
        "outputId": "65971bff-4c70-4db2-c729-8fe43830ff34",
        "colab": {
          "base_uri": "https://localhost:8080/",
          "height": 162
        }
      },
      "source": [
        "water_pump_drop_na.info()"
      ],
      "execution_count": 0,
      "outputs": [
        {
          "output_type": "error",
          "ename": "AttributeError",
          "evalue": "ignored",
          "traceback": [
            "\u001b[0;31m---------------------------------------------------------------------------\u001b[0m",
            "\u001b[0;31mAttributeError\u001b[0m                            Traceback (most recent call last)",
            "\u001b[0;32m<ipython-input-36-c15ce75ed483>\u001b[0m in \u001b[0;36m<module>\u001b[0;34m()\u001b[0m\n\u001b[0;32m----> 1\u001b[0;31m \u001b[0mwater_pump_drop_na\u001b[0m\u001b[0;34m.\u001b[0m\u001b[0minfo\u001b[0m\u001b[0;34m(\u001b[0m\u001b[0;34m)\u001b[0m\u001b[0;34m\u001b[0m\u001b[0;34m\u001b[0m\u001b[0m\n\u001b[0m",
            "\u001b[0;31mAttributeError\u001b[0m: 'NoneType' object has no attribute 'info'"
          ]
        }
      ]
    },
    {
      "cell_type": "code",
      "metadata": {
        "id": "NIpY_NJa5Lz-",
        "colab_type": "code",
        "colab": {}
      },
      "source": [
        "X_train = water_pump.drop(['id', 'status_group',],axis=1)\n",
        "y_train = water_pump['status_group']"
      ],
      "execution_count": 0,
      "outputs": []
    },
    {
      "cell_type": "code",
      "metadata": {
        "id": "cYpVr0SRsTF3",
        "colab_type": "code",
        "outputId": "c5bd568f-7954-4310-b9a2-2ae533698dfa",
        "colab": {
          "base_uri": "https://localhost:8080/",
          "height": 34
        }
      },
      "source": [
        "water_pump.shape"
      ],
      "execution_count": 0,
      "outputs": [
        {
          "output_type": "execute_result",
          "data": {
            "text/plain": [
              "(59400, 41)"
            ]
          },
          "metadata": {
            "tags": []
          },
          "execution_count": 4
        }
      ]
    },
    {
      "cell_type": "code",
      "metadata": {
        "id": "M7TrApj_sf7S",
        "colab_type": "code",
        "outputId": "cb498381-0fff-4a1f-c456-c527b83a94ff",
        "colab": {
          "base_uri": "https://localhost:8080/",
          "height": 437
        }
      },
      "source": [
        "water_pump.info()"
      ],
      "execution_count": 0,
      "outputs": [
        {
          "output_type": "stream",
          "text": [
            "<class 'pandas.core.frame.DataFrame'>\n",
            "Int64Index: 48651 entries, 0 to 59399\n",
            "Data columns (total 20 columns):\n",
            "amount_tsh           48651 non-null float64\n",
            "basin                48651 non-null object\n",
            "construction_year    48651 non-null float64\n",
            "district_code        48651 non-null float64\n",
            "extraction_type      48651 non-null object\n",
            "funder               48651 non-null object\n",
            "gps_height           48651 non-null float64\n",
            "id                   0 non-null float64\n",
            "installer            48651 non-null object\n",
            "management           48651 non-null object\n",
            "payment_type         48651 non-null object\n",
            "permit               48651 non-null object\n",
            "population           48651 non-null float64\n",
            "public_meeting       48651 non-null object\n",
            "quality_group        48651 non-null object\n",
            "quantity_group       48651 non-null object\n",
            "region_code          48651 non-null float64\n",
            "scheme_management    48651 non-null object\n",
            "source_type          48651 non-null object\n",
            "status_group         0 non-null object\n",
            "dtypes: float64(7), object(13)\n",
            "memory usage: 7.8+ MB\n"
          ],
          "name": "stdout"
        }
      ]
    },
    {
      "cell_type": "code",
      "metadata": {
        "id": "y_X9mN3pypHz",
        "colab_type": "code",
        "outputId": "f608c8de-92f9-410c-ce79-3f5363c32537",
        "colab": {
          "base_uri": "https://localhost:8080/",
          "height": 218
        }
      },
      "source": [
        "water_pump['funder'].value_counts(normalize=True)"
      ],
      "execution_count": 0,
      "outputs": [
        {
          "output_type": "execute_result",
          "data": {
            "text/plain": [
              "Government Of Tanzania          0.162898\n",
              "Danida                          0.055841\n",
              "Hesawa                          0.039487\n",
              "Rwssp                           0.024639\n",
              "World Bank                      0.024191\n",
              "                                  ...   \n",
              "Mzungu                          0.000018\n",
              "Theo                            0.000018\n",
              "Tasae                           0.000018\n",
              "Diocese Of Mount Kilimanjaro    0.000018\n",
              "Padep(mifugo)                   0.000018\n",
              "Name: funder, Length: 1897, dtype: float64"
            ]
          },
          "metadata": {
            "tags": []
          },
          "execution_count": 4
        }
      ]
    },
    {
      "cell_type": "code",
      "metadata": {
        "id": "D6mdmFisy-1k",
        "colab_type": "code",
        "outputId": "870780d3-a0f4-41e8-a5c4-4cb3a5bb336b",
        "colab": {
          "base_uri": "https://localhost:8080/",
          "height": 218
        }
      },
      "source": [
        "water_pump['installer'].value_counts(normalize=True)"
      ],
      "execution_count": 0,
      "outputs": [
        {
          "output_type": "execute_result",
          "data": {
            "text/plain": [
              "DWE                      0.312171\n",
              "Government               0.032738\n",
              "RWE                      0.021634\n",
              "Commu                    0.019015\n",
              "DANIDA                   0.018836\n",
              "                           ...   \n",
              "kw                       0.000018\n",
              "REGWA                    0.000018\n",
              "Rotary club Australia    0.000018\n",
              "OLOMOLOKI                0.000018\n",
              "Hasawa                   0.000018\n",
              "Name: installer, Length: 2145, dtype: float64"
            ]
          },
          "metadata": {
            "tags": []
          },
          "execution_count": 5
        }
      ]
    },
    {
      "cell_type": "code",
      "metadata": {
        "id": "wpbtY0U7tLIx",
        "colab_type": "code",
        "outputId": "1e228403-f182-4803-d1b5-5fd80c14dafe",
        "colab": {
          "base_uri": "https://localhost:8080/",
          "height": 304
        }
      },
      "source": [
        "water_pump.describe()"
      ],
      "execution_count": 0,
      "outputs": [
        {
          "output_type": "execute_result",
          "data": {
            "text/html": [
              "<div>\n",
              "<style scoped>\n",
              "    .dataframe tbody tr th:only-of-type {\n",
              "        vertical-align: middle;\n",
              "    }\n",
              "\n",
              "    .dataframe tbody tr th {\n",
              "        vertical-align: top;\n",
              "    }\n",
              "\n",
              "    .dataframe thead th {\n",
              "        text-align: right;\n",
              "    }\n",
              "</style>\n",
              "<table border=\"1\" class=\"dataframe\">\n",
              "  <thead>\n",
              "    <tr style=\"text-align: right;\">\n",
              "      <th></th>\n",
              "      <th>id</th>\n",
              "      <th>amount_tsh</th>\n",
              "      <th>gps_height</th>\n",
              "      <th>longitude</th>\n",
              "      <th>latitude</th>\n",
              "      <th>num_private</th>\n",
              "      <th>region_code</th>\n",
              "      <th>district_code</th>\n",
              "      <th>population</th>\n",
              "      <th>construction_year</th>\n",
              "    </tr>\n",
              "  </thead>\n",
              "  <tbody>\n",
              "    <tr>\n",
              "      <th>count</th>\n",
              "      <td>59400.000000</td>\n",
              "      <td>59400.000000</td>\n",
              "      <td>59400.000000</td>\n",
              "      <td>59400.000000</td>\n",
              "      <td>5.940000e+04</td>\n",
              "      <td>59400.000000</td>\n",
              "      <td>59400.000000</td>\n",
              "      <td>59400.000000</td>\n",
              "      <td>59400.000000</td>\n",
              "      <td>59400.000000</td>\n",
              "    </tr>\n",
              "    <tr>\n",
              "      <th>mean</th>\n",
              "      <td>37115.131768</td>\n",
              "      <td>317.650385</td>\n",
              "      <td>668.297239</td>\n",
              "      <td>34.077427</td>\n",
              "      <td>-5.706033e+00</td>\n",
              "      <td>0.474141</td>\n",
              "      <td>15.297003</td>\n",
              "      <td>5.629747</td>\n",
              "      <td>179.909983</td>\n",
              "      <td>1300.652475</td>\n",
              "    </tr>\n",
              "    <tr>\n",
              "      <th>std</th>\n",
              "      <td>21453.128371</td>\n",
              "      <td>2997.574558</td>\n",
              "      <td>693.116350</td>\n",
              "      <td>6.567432</td>\n",
              "      <td>2.946019e+00</td>\n",
              "      <td>12.236230</td>\n",
              "      <td>17.587406</td>\n",
              "      <td>9.633649</td>\n",
              "      <td>471.482176</td>\n",
              "      <td>951.620547</td>\n",
              "    </tr>\n",
              "    <tr>\n",
              "      <th>min</th>\n",
              "      <td>0.000000</td>\n",
              "      <td>0.000000</td>\n",
              "      <td>-90.000000</td>\n",
              "      <td>0.000000</td>\n",
              "      <td>-1.164944e+01</td>\n",
              "      <td>0.000000</td>\n",
              "      <td>1.000000</td>\n",
              "      <td>0.000000</td>\n",
              "      <td>0.000000</td>\n",
              "      <td>0.000000</td>\n",
              "    </tr>\n",
              "    <tr>\n",
              "      <th>25%</th>\n",
              "      <td>18519.750000</td>\n",
              "      <td>0.000000</td>\n",
              "      <td>0.000000</td>\n",
              "      <td>33.090347</td>\n",
              "      <td>-8.540621e+00</td>\n",
              "      <td>0.000000</td>\n",
              "      <td>5.000000</td>\n",
              "      <td>2.000000</td>\n",
              "      <td>0.000000</td>\n",
              "      <td>0.000000</td>\n",
              "    </tr>\n",
              "    <tr>\n",
              "      <th>50%</th>\n",
              "      <td>37061.500000</td>\n",
              "      <td>0.000000</td>\n",
              "      <td>369.000000</td>\n",
              "      <td>34.908743</td>\n",
              "      <td>-5.021597e+00</td>\n",
              "      <td>0.000000</td>\n",
              "      <td>12.000000</td>\n",
              "      <td>3.000000</td>\n",
              "      <td>25.000000</td>\n",
              "      <td>1986.000000</td>\n",
              "    </tr>\n",
              "    <tr>\n",
              "      <th>75%</th>\n",
              "      <td>55656.500000</td>\n",
              "      <td>20.000000</td>\n",
              "      <td>1319.250000</td>\n",
              "      <td>37.178387</td>\n",
              "      <td>-3.326156e+00</td>\n",
              "      <td>0.000000</td>\n",
              "      <td>17.000000</td>\n",
              "      <td>5.000000</td>\n",
              "      <td>215.000000</td>\n",
              "      <td>2004.000000</td>\n",
              "    </tr>\n",
              "    <tr>\n",
              "      <th>max</th>\n",
              "      <td>74247.000000</td>\n",
              "      <td>350000.000000</td>\n",
              "      <td>2770.000000</td>\n",
              "      <td>40.345193</td>\n",
              "      <td>-2.000000e-08</td>\n",
              "      <td>1776.000000</td>\n",
              "      <td>99.000000</td>\n",
              "      <td>80.000000</td>\n",
              "      <td>30500.000000</td>\n",
              "      <td>2013.000000</td>\n",
              "    </tr>\n",
              "  </tbody>\n",
              "</table>\n",
              "</div>"
            ],
            "text/plain": [
              "                 id     amount_tsh  ...    population  construction_year\n",
              "count  59400.000000   59400.000000  ...  59400.000000       59400.000000\n",
              "mean   37115.131768     317.650385  ...    179.909983        1300.652475\n",
              "std    21453.128371    2997.574558  ...    471.482176         951.620547\n",
              "min        0.000000       0.000000  ...      0.000000           0.000000\n",
              "25%    18519.750000       0.000000  ...      0.000000           0.000000\n",
              "50%    37061.500000       0.000000  ...     25.000000        1986.000000\n",
              "75%    55656.500000      20.000000  ...    215.000000        2004.000000\n",
              "max    74247.000000  350000.000000  ...  30500.000000        2013.000000\n",
              "\n",
              "[8 rows x 10 columns]"
            ]
          },
          "metadata": {
            "tags": []
          },
          "execution_count": 9
        }
      ]
    },
    {
      "cell_type": "code",
      "metadata": {
        "id": "cGNQO0j4G-xI",
        "colab_type": "code",
        "outputId": "a3448237-f916-4a88-d82b-2ca0d999b1e2",
        "colab": {
          "base_uri": "https://localhost:8080/",
          "height": 252
        }
      },
      "source": [
        "from sklearn.model_selection import StratifiedShuffleSplit\n",
        "\n",
        "\n",
        "\n",
        "split = StratifiedShuffleSplit(n_splits=5, test_size=0.2, random_state=42)\n",
        "for train_index, test_index in split.split(water_pump_remove_na[['funder', 'installer', 'longitude', 'latitude']], water_pump_remove_na['status_group']):\n",
        "    strat_train_set = water_pump_remove_na.loc[train_index]\n",
        "    strat_test_set = water_pump_remove_na.loc[test_index]"
      ],
      "execution_count": 0,
      "outputs": [
        {
          "output_type": "stream",
          "text": [
            "/usr/local/lib/python3.6/dist-packages/ipykernel_launcher.py:7: FutureWarning: \n",
            "Passing list-likes to .loc or [] with any missing label will raise\n",
            "KeyError in the future, you can use .reindex() as an alternative.\n",
            "\n",
            "See the documentation here:\n",
            "https://pandas.pydata.org/pandas-docs/stable/user_guide/indexing.html#deprecate-loc-reindex-listlike\n",
            "  import sys\n",
            "/usr/local/lib/python3.6/dist-packages/ipykernel_launcher.py:8: FutureWarning: \n",
            "Passing list-likes to .loc or [] with any missing label will raise\n",
            "KeyError in the future, you can use .reindex() as an alternative.\n",
            "\n",
            "See the documentation here:\n",
            "https://pandas.pydata.org/pandas-docs/stable/user_guide/indexing.html#deprecate-loc-reindex-listlike\n",
            "  \n"
          ],
          "name": "stderr"
        }
      ]
    },
    {
      "cell_type": "markdown",
      "metadata": {
        "id": "F3t8aNjvJhLj",
        "colab_type": "text"
      },
      "source": [
        ""
      ]
    },
    {
      "cell_type": "markdown",
      "metadata": {
        "id": "Zs97p4OeJhRn",
        "colab_type": "text"
      },
      "source": [
        ""
      ]
    },
    {
      "cell_type": "code",
      "metadata": {
        "id": "JSKKyq0cHxzt",
        "colab_type": "code",
        "outputId": "3d1aa1db-33e9-4182-b321-eb96daa1d6ee",
        "colab": {
          "base_uri": "https://localhost:8080/",
          "height": 218
        }
      },
      "source": [
        "strat_train_set['funder'].value_counts()\n",
        "#X_test.shape"
      ],
      "execution_count": 0,
      "outputs": [
        {
          "output_type": "execute_result",
          "data": {
            "text/plain": [
              "Government Of Tanzania       5432\n",
              "Danida                       1916\n",
              "Hesawa                        982\n",
              "Kkkt                          848\n",
              "World Bank                    794\n",
              "                             ... \n",
              "Mwita                           1\n",
              "Dar Es Salaam Round Table       1\n",
              "Kcu                             1\n",
              "Yasi Naini                      1\n",
              "Kkkt Ndrumangeni                1\n",
              "Name: funder, Length: 1321, dtype: int64"
            ]
          },
          "metadata": {
            "tags": []
          },
          "execution_count": 8
        }
      ]
    },
    {
      "cell_type": "code",
      "metadata": {
        "id": "lnuZQd34zTxY",
        "colab_type": "code",
        "outputId": "02060961-b50f-4f5d-ef00-9effee12e059",
        "colab": {
          "base_uri": "https://localhost:8080/",
          "height": 790
        }
      },
      "source": [
        "strat_train_set.info()"
      ],
      "execution_count": 0,
      "outputs": [
        {
          "output_type": "stream",
          "text": [
            "<class 'pandas.core.frame.DataFrame'>\n",
            "Int64Index: 18414 entries, 3663 to 7532\n",
            "Data columns (total 41 columns):\n",
            "id                       18414 non-null float64\n",
            "amount_tsh               18414 non-null float64\n",
            "date_recorded            18414 non-null object\n",
            "funder                   18414 non-null int64\n",
            "gps_height               18414 non-null float64\n",
            "installer                18414 non-null int64\n",
            "longitude                18414 non-null float64\n",
            "latitude                 18414 non-null float64\n",
            "wpt_name                 18414 non-null object\n",
            "num_private              18414 non-null float64\n",
            "basin                    18414 non-null object\n",
            "subvillage               18414 non-null object\n",
            "region                   18414 non-null object\n",
            "region_code              18414 non-null float64\n",
            "district_code            18414 non-null float64\n",
            "lga                      18414 non-null object\n",
            "ward                     18414 non-null object\n",
            "population               18414 non-null float64\n",
            "public_meeting           18414 non-null object\n",
            "recorded_by              18414 non-null object\n",
            "scheme_management        18414 non-null object\n",
            "scheme_name              18414 non-null object\n",
            "permit                   18414 non-null object\n",
            "construction_year        18414 non-null float64\n",
            "extraction_type          18414 non-null object\n",
            "extraction_type_group    18414 non-null object\n",
            "extraction_type_class    18414 non-null object\n",
            "management               18414 non-null object\n",
            "management_group         18414 non-null object\n",
            "payment                  18414 non-null object\n",
            "payment_type             18414 non-null object\n",
            "water_quality            18414 non-null object\n",
            "quality_group            18414 non-null object\n",
            "quantity                 18414 non-null object\n",
            "quantity_group           18414 non-null object\n",
            "source                   18414 non-null object\n",
            "source_type              18414 non-null object\n",
            "source_class             18414 non-null object\n",
            "waterpoint_type          18414 non-null object\n",
            "waterpoint_type_group    18414 non-null object\n",
            "status_group             18414 non-null object\n",
            "dtypes: float64(10), int64(2), object(29)\n",
            "memory usage: 5.9+ MB\n"
          ],
          "name": "stdout"
        }
      ]
    },
    {
      "cell_type": "code",
      "metadata": {
        "id": "uq8v7BcYuWh8",
        "colab_type": "code",
        "outputId": "20b79997-58f7-4962-f1c7-680c1f366188",
        "colab": {
          "base_uri": "https://localhost:8080/",
          "height": 790
        }
      },
      "source": [
        "strat_test_set.info()"
      ],
      "execution_count": 0,
      "outputs": [
        {
          "output_type": "stream",
          "text": [
            "<class 'pandas.core.frame.DataFrame'>\n",
            "Int64Index: 18414 entries, 3663 to 7532\n",
            "Data columns (total 41 columns):\n",
            "id                       18414 non-null float64\n",
            "amount_tsh               18414 non-null float64\n",
            "date_recorded            18414 non-null object\n",
            "funder                   18414 non-null int64\n",
            "gps_height               18414 non-null float64\n",
            "installer                18414 non-null int64\n",
            "longitude                18414 non-null float64\n",
            "latitude                 18414 non-null float64\n",
            "wpt_name                 18414 non-null object\n",
            "num_private              18414 non-null float64\n",
            "basin                    18414 non-null object\n",
            "subvillage               18414 non-null object\n",
            "region                   18414 non-null object\n",
            "region_code              18414 non-null float64\n",
            "district_code            18414 non-null float64\n",
            "lga                      18414 non-null object\n",
            "ward                     18414 non-null object\n",
            "population               18414 non-null float64\n",
            "public_meeting           18414 non-null object\n",
            "recorded_by              18414 non-null object\n",
            "scheme_management        18414 non-null object\n",
            "scheme_name              18414 non-null object\n",
            "permit                   18414 non-null object\n",
            "construction_year        18414 non-null float64\n",
            "extraction_type          18414 non-null int64\n",
            "extraction_type_group    18414 non-null object\n",
            "extraction_type_class    18414 non-null object\n",
            "management               18414 non-null object\n",
            "management_group         18414 non-null object\n",
            "payment                  18414 non-null object\n",
            "payment_type             18414 non-null object\n",
            "water_quality            18414 non-null object\n",
            "quality_group            18414 non-null object\n",
            "quantity                 18414 non-null object\n",
            "quantity_group           18414 non-null object\n",
            "source                   18414 non-null object\n",
            "source_type              18414 non-null int64\n",
            "source_class             18414 non-null object\n",
            "waterpoint_type          18414 non-null object\n",
            "waterpoint_type_group    18414 non-null object\n",
            "status_group             18414 non-null object\n",
            "dtypes: float64(10), int64(4), object(27)\n",
            "memory usage: 5.9+ MB\n"
          ],
          "name": "stdout"
        }
      ]
    },
    {
      "cell_type": "code",
      "metadata": {
        "id": "pQJks8Ebu5Om",
        "colab_type": "code",
        "colab": {}
      },
      "source": [
        "vc_viz = ValidationCurve(DecisionTreeClassifier(),\n",
        "                        param_name=\"max_depth\",\n",
        "                        param_range=np.arange(1,11),\n",
        "                        cv=10,\n",
        "                        n_jobs=-1)\n",
        "\n",
        "vc_viz.fit(X,y)\n",
        "vc_viz.poof();"
      ],
      "execution_count": 0,
      "outputs": []
    },
    {
      "cell_type": "code",
      "metadata": {
        "id": "HlTsLaTj0sNG",
        "colab_type": "code",
        "outputId": "bd45ff58-1546-461b-c5b8-9aaf9d857078",
        "colab": {
          "base_uri": "https://localhost:8080/",
          "height": 218
        }
      },
      "source": [
        "strat_test_set[\"funder\"].value_counts() / len(strat_test_set)"
      ],
      "execution_count": 0,
      "outputs": [
        {
          "output_type": "execute_result",
          "data": {
            "text/plain": [
              "Government Of Tanzania     0.134181\n",
              "Danida                     0.048220\n",
              "Hesawa                     0.026551\n",
              "Kkkt                       0.022279\n",
              "World Bank                 0.021668\n",
              "                             ...   \n",
              "Maswi Drilling Co. Ltd     0.000102\n",
              "Henure Dema                0.000102\n",
              "Hesawz                     0.000102\n",
              "Magadini Makiwaru Water    0.000102\n",
              "Wrssp                      0.000102\n",
              "Name: funder, Length: 718, dtype: float64"
            ]
          },
          "metadata": {
            "tags": []
          },
          "execution_count": 10
        }
      ]
    },
    {
      "cell_type": "code",
      "metadata": {
        "id": "rZFaHZIjU4Yw",
        "colab_type": "code",
        "outputId": "13ba58a6-dadf-4a68-e58a-be46bf11464b",
        "colab": {
          "base_uri": "https://localhost:8080/",
          "height": 218
        }
      },
      "source": [
        "water_pump_remove_na[\"funder\"].value_counts() / len(water_pump_remove_na)"
      ],
      "execution_count": 0,
      "outputs": [
        {
          "output_type": "execute_result",
          "data": {
            "text/plain": [
              "Government Of Tanzania    0.166500\n",
              "Danida                    0.059434\n",
              "Hesawa                    0.031314\n",
              "Kkkt                      0.025719\n",
              "World Bank                0.024294\n",
              "                            ...   \n",
              "Wdsp                      0.000020\n",
              "Lg                        0.000020\n",
              "Da Unoperaio Siciliano    0.000020\n",
              "Mzee Mkungata             0.000020\n",
              "Mkuluku                   0.000020\n",
              "Name: funder, Length: 1616, dtype: float64"
            ]
          },
          "metadata": {
            "tags": []
          },
          "execution_count": 11
        }
      ]
    },
    {
      "cell_type": "code",
      "metadata": {
        "id": "P7J9pTE5I0Nm",
        "colab_type": "code",
        "outputId": "e0743af7-e903-48a7-c344-513fb91e7b1d",
        "colab": {
          "base_uri": "https://localhost:8080/",
          "height": 218
        }
      },
      "source": [
        "strat_test_set[\"installer\"].value_counts() / len(strat_test_set)"
      ],
      "execution_count": 0,
      "outputs": [
        {
          "output_type": "execute_result",
          "data": {
            "text/plain": [
              "148    0.300098\n",
              "529    0.030520\n",
              "109    0.029543\n",
              "220    0.028076\n",
              "68     0.022429\n",
              "         ...   \n",
              "185    0.000054\n",
              "201    0.000054\n",
              "233    0.000054\n",
              "249    0.000054\n",
              "727    0.000054\n",
              "Name: installer, Length: 763, dtype: float64"
            ]
          },
          "metadata": {
            "tags": []
          },
          "execution_count": 17
        }
      ]
    },
    {
      "cell_type": "code",
      "metadata": {
        "id": "vZw287ny_dVd",
        "colab_type": "code",
        "outputId": "1c31419d-093e-4140-c944-6181b8283dcd",
        "colab": {
          "base_uri": "https://localhost:8080/",
          "height": 218
        }
      },
      "source": [
        "water_pump_remove_na[\"installer\"].value_counts() / len(water_pump_remove_na)"
      ],
      "execution_count": 0,
      "outputs": [
        {
          "output_type": "execute_result",
          "data": {
            "text/plain": [
              "DWE               0.299204\n",
              "Government        0.029931\n",
              "Commu             0.021548\n",
              "RWE               0.021039\n",
              "KKKT              0.018048\n",
              "                    ...   \n",
              "Private owned     0.000020\n",
              "BAPTIST CHURCH    0.000020\n",
              "Others            0.000020\n",
              "Grumeti fund      0.000020\n",
              "Fabia             0.000020\n",
              "Name: installer, Length: 1848, dtype: float64"
            ]
          },
          "metadata": {
            "tags": []
          },
          "execution_count": 13
        }
      ]
    },
    {
      "cell_type": "code",
      "metadata": {
        "id": "w8ddV_9Y_jdy",
        "colab_type": "code",
        "outputId": "19d7c39a-6301-4644-c6f7-e75b0cbbca32",
        "colab": {
          "base_uri": "https://localhost:8080/",
          "height": 34
        }
      },
      "source": [
        "dt = DecisionTreeClassifier(random_state=42, class_weight='balanced', max_depth=17)\n",
        "\n",
        "lab = preprocessing.LabelEncoder()\n",
        "strat_train_set = strat_train_set.dropna(how='any')\n",
        "strat_test_set = strat_train_set.dropna(how='any')\n",
        "strat_train_set['funder'] = lab.fit_transform(strat_train_set['funder'])\n",
        "strat_train_set['installer']=lab.fit_transform(strat_train_set['installer'])\n",
        "strat_train_set['extraction_type']=lab.fit_transform(strat_train_set['extraction_type'])\n",
        "strat_train_set['source_type']=lab.fit_transform(strat_train_set['source_type'])\n",
        "strat_test_set['funder'] = lab.fit_transform(strat_test_set['funder'])\n",
        "strat_test_set['installer'] = lab.fit_transform(strat_test_set['installer'])\n",
        "y_test1 = lab.fit_transform(strat_test_set['status_group'])\n",
        "y_train1 = lab.fit_transform(strat_train_set['status_group'])\n",
        "X_train1 = strat_train_set[['funder', 'installer', 'longitude', 'latitude']]\n",
        "X_test1 = strat_test_set[['funder', 'installer', 'longitude', 'latitude']]\n",
        "dt.fit(X_train1, y_train1)\n",
        "dt.score(X_test1, y_test1)"
      ],
      "execution_count": 0,
      "outputs": [
        {
          "output_type": "execute_result",
          "data": {
            "text/plain": [
              "0.867274899532964"
            ]
          },
          "metadata": {
            "tags": []
          },
          "execution_count": 9
        }
      ]
    },
    {
      "cell_type": "code",
      "metadata": {
        "id": "0SFbkuHaqTMS",
        "colab_type": "code",
        "outputId": "a40dcc23-d0ab-4247-9a17-20de6c166cdc",
        "colab": {
          "base_uri": "https://localhost:8080/",
          "height": 294
        }
      },
      "source": [
        "pd.get_dummies(strat_train_set[['funder', 'installer', 'longitude', 'latitude']], drop_first=True).head()"
      ],
      "execution_count": 0,
      "outputs": [
        {
          "output_type": "execute_result",
          "data": {
            "text/html": [
              "<div>\n",
              "<style scoped>\n",
              "    .dataframe tbody tr th:only-of-type {\n",
              "        vertical-align: middle;\n",
              "    }\n",
              "\n",
              "    .dataframe tbody tr th {\n",
              "        vertical-align: top;\n",
              "    }\n",
              "\n",
              "    .dataframe thead th {\n",
              "        text-align: right;\n",
              "    }\n",
              "</style>\n",
              "<table border=\"1\" class=\"dataframe\">\n",
              "  <thead>\n",
              "    <tr style=\"text-align: right;\">\n",
              "      <th></th>\n",
              "      <th>longitude</th>\n",
              "      <th>latitude</th>\n",
              "      <th>funder_A/co Germany</th>\n",
              "      <th>funder_Aar</th>\n",
              "      <th>funder_Abas Ka</th>\n",
              "      <th>funder_Abasia</th>\n",
              "      <th>funder_Abc-ihushi Development Cent</th>\n",
              "      <th>funder_Abd</th>\n",
              "      <th>funder_Abood</th>\n",
              "      <th>funder_Abs</th>\n",
              "      <th>funder_Aco/germany</th>\n",
              "      <th>funder_Acord</th>\n",
              "      <th>funder_Acra</th>\n",
              "      <th>funder_Act Mara</th>\n",
              "      <th>funder_Action Aid</th>\n",
              "      <th>funder_Action Contre La Faim</th>\n",
              "      <th>funder_Adap</th>\n",
              "      <th>funder_Adb</th>\n",
              "      <th>funder_Adf</th>\n",
              "      <th>funder_Adp</th>\n",
              "      <th>funder_Adp Bungu</th>\n",
              "      <th>funder_Adp Mombo</th>\n",
              "      <th>funder_Adp/w</th>\n",
              "      <th>funder_Adra</th>\n",
              "      <th>funder_Af</th>\n",
              "      <th>funder_Afdp</th>\n",
              "      <th>funder_Africa</th>\n",
              "      <th>funder_Africa 2000 Network/undp</th>\n",
              "      <th>funder_Africa Amini Alama</th>\n",
              "      <th>funder_African</th>\n",
              "      <th>funder_African 2000 Network</th>\n",
              "      <th>funder_African Barrick Gold</th>\n",
              "      <th>funder_African Development Bank</th>\n",
              "      <th>funder_African Development Foundation</th>\n",
              "      <th>funder_African Muslim Agency</th>\n",
              "      <th>funder_African Realief Committe Of Ku</th>\n",
              "      <th>funder_African Relie</th>\n",
              "      <th>funder_Africaone Ltd</th>\n",
              "      <th>funder_Africare</th>\n",
              "      <th>funder_Afriican Reli</th>\n",
              "      <th>...</th>\n",
              "      <th>installer_ir</th>\n",
              "      <th>installer_is</th>\n",
              "      <th>installer_kanisa</th>\n",
              "      <th>installer_kuwait</th>\n",
              "      <th>installer_kw</th>\n",
              "      <th>installer_lion's club</th>\n",
              "      <th>installer_local  technician</th>\n",
              "      <th>installer_local fundi</th>\n",
              "      <th>installer_local technical tec</th>\n",
              "      <th>installer_local technician</th>\n",
              "      <th>installer_local technitian</th>\n",
              "      <th>installer_lusajo</th>\n",
              "      <th>installer_lutheran church</th>\n",
              "      <th>installer_morovian church</th>\n",
              "      <th>installer_ms</th>\n",
              "      <th>installer_mwakalinga</th>\n",
              "      <th>installer_mwita</th>\n",
              "      <th>installer_mwita kichere</th>\n",
              "      <th>installer_nandra Construction</th>\n",
              "      <th>installer_nchagwa</th>\n",
              "      <th>installer_not known</th>\n",
              "      <th>installer_plan int</th>\n",
              "      <th>installer_private</th>\n",
              "      <th>installer_rc church</th>\n",
              "      <th>installer_salamu kita</th>\n",
              "      <th>installer_secondary</th>\n",
              "      <th>installer_secondary school</th>\n",
              "      <th>installer_sengerema Water Department</th>\n",
              "      <th>installer_shule</th>\n",
              "      <th>installer_stansilaus</th>\n",
              "      <th>installer_upper Ruvu</th>\n",
              "      <th>installer_villager</th>\n",
              "      <th>installer_villagers</th>\n",
              "      <th>installer_villigers</th>\n",
              "      <th>installer_wanan</th>\n",
              "      <th>installer_wananchi</th>\n",
              "      <th>installer_wasab</th>\n",
              "      <th>installer_water board</th>\n",
              "      <th>installer_world</th>\n",
              "      <th>installer_world banks</th>\n",
              "    </tr>\n",
              "  </thead>\n",
              "  <tbody>\n",
              "    <tr>\n",
              "      <th>3663</th>\n",
              "      <td>34.902651</td>\n",
              "      <td>-11.366890</td>\n",
              "      <td>0</td>\n",
              "      <td>0</td>\n",
              "      <td>0</td>\n",
              "      <td>0</td>\n",
              "      <td>0</td>\n",
              "      <td>0</td>\n",
              "      <td>0</td>\n",
              "      <td>0</td>\n",
              "      <td>0</td>\n",
              "      <td>0</td>\n",
              "      <td>0</td>\n",
              "      <td>0</td>\n",
              "      <td>0</td>\n",
              "      <td>0</td>\n",
              "      <td>0</td>\n",
              "      <td>0</td>\n",
              "      <td>0</td>\n",
              "      <td>0</td>\n",
              "      <td>0</td>\n",
              "      <td>0</td>\n",
              "      <td>0</td>\n",
              "      <td>0</td>\n",
              "      <td>0</td>\n",
              "      <td>0</td>\n",
              "      <td>0</td>\n",
              "      <td>0</td>\n",
              "      <td>0</td>\n",
              "      <td>0</td>\n",
              "      <td>0</td>\n",
              "      <td>0</td>\n",
              "      <td>0</td>\n",
              "      <td>0</td>\n",
              "      <td>0</td>\n",
              "      <td>0</td>\n",
              "      <td>0</td>\n",
              "      <td>0</td>\n",
              "      <td>0</td>\n",
              "      <td>0</td>\n",
              "      <td>...</td>\n",
              "      <td>0</td>\n",
              "      <td>0</td>\n",
              "      <td>0</td>\n",
              "      <td>0</td>\n",
              "      <td>0</td>\n",
              "      <td>0</td>\n",
              "      <td>0</td>\n",
              "      <td>0</td>\n",
              "      <td>0</td>\n",
              "      <td>0</td>\n",
              "      <td>0</td>\n",
              "      <td>0</td>\n",
              "      <td>0</td>\n",
              "      <td>0</td>\n",
              "      <td>0</td>\n",
              "      <td>0</td>\n",
              "      <td>0</td>\n",
              "      <td>0</td>\n",
              "      <td>0</td>\n",
              "      <td>0</td>\n",
              "      <td>0</td>\n",
              "      <td>0</td>\n",
              "      <td>0</td>\n",
              "      <td>0</td>\n",
              "      <td>0</td>\n",
              "      <td>0</td>\n",
              "      <td>0</td>\n",
              "      <td>0</td>\n",
              "      <td>0</td>\n",
              "      <td>0</td>\n",
              "      <td>0</td>\n",
              "      <td>0</td>\n",
              "      <td>0</td>\n",
              "      <td>0</td>\n",
              "      <td>0</td>\n",
              "      <td>0</td>\n",
              "      <td>0</td>\n",
              "      <td>0</td>\n",
              "      <td>0</td>\n",
              "      <td>0</td>\n",
              "    </tr>\n",
              "    <tr>\n",
              "      <th>46482</th>\n",
              "      <td>35.431369</td>\n",
              "      <td>-7.995626</td>\n",
              "      <td>0</td>\n",
              "      <td>0</td>\n",
              "      <td>0</td>\n",
              "      <td>0</td>\n",
              "      <td>0</td>\n",
              "      <td>0</td>\n",
              "      <td>0</td>\n",
              "      <td>0</td>\n",
              "      <td>0</td>\n",
              "      <td>0</td>\n",
              "      <td>0</td>\n",
              "      <td>0</td>\n",
              "      <td>0</td>\n",
              "      <td>0</td>\n",
              "      <td>0</td>\n",
              "      <td>0</td>\n",
              "      <td>0</td>\n",
              "      <td>0</td>\n",
              "      <td>0</td>\n",
              "      <td>0</td>\n",
              "      <td>0</td>\n",
              "      <td>0</td>\n",
              "      <td>0</td>\n",
              "      <td>0</td>\n",
              "      <td>0</td>\n",
              "      <td>0</td>\n",
              "      <td>0</td>\n",
              "      <td>0</td>\n",
              "      <td>0</td>\n",
              "      <td>0</td>\n",
              "      <td>0</td>\n",
              "      <td>0</td>\n",
              "      <td>0</td>\n",
              "      <td>0</td>\n",
              "      <td>0</td>\n",
              "      <td>0</td>\n",
              "      <td>0</td>\n",
              "      <td>0</td>\n",
              "      <td>...</td>\n",
              "      <td>0</td>\n",
              "      <td>0</td>\n",
              "      <td>0</td>\n",
              "      <td>0</td>\n",
              "      <td>0</td>\n",
              "      <td>0</td>\n",
              "      <td>0</td>\n",
              "      <td>0</td>\n",
              "      <td>0</td>\n",
              "      <td>0</td>\n",
              "      <td>0</td>\n",
              "      <td>0</td>\n",
              "      <td>0</td>\n",
              "      <td>0</td>\n",
              "      <td>0</td>\n",
              "      <td>0</td>\n",
              "      <td>0</td>\n",
              "      <td>0</td>\n",
              "      <td>0</td>\n",
              "      <td>0</td>\n",
              "      <td>0</td>\n",
              "      <td>0</td>\n",
              "      <td>0</td>\n",
              "      <td>0</td>\n",
              "      <td>0</td>\n",
              "      <td>0</td>\n",
              "      <td>0</td>\n",
              "      <td>0</td>\n",
              "      <td>0</td>\n",
              "      <td>0</td>\n",
              "      <td>0</td>\n",
              "      <td>0</td>\n",
              "      <td>0</td>\n",
              "      <td>0</td>\n",
              "      <td>0</td>\n",
              "      <td>0</td>\n",
              "      <td>0</td>\n",
              "      <td>0</td>\n",
              "      <td>0</td>\n",
              "      <td>0</td>\n",
              "    </tr>\n",
              "    <tr>\n",
              "      <th>48098</th>\n",
              "      <td>29.930444</td>\n",
              "      <td>-4.810484</td>\n",
              "      <td>0</td>\n",
              "      <td>0</td>\n",
              "      <td>0</td>\n",
              "      <td>0</td>\n",
              "      <td>0</td>\n",
              "      <td>0</td>\n",
              "      <td>0</td>\n",
              "      <td>0</td>\n",
              "      <td>0</td>\n",
              "      <td>0</td>\n",
              "      <td>0</td>\n",
              "      <td>0</td>\n",
              "      <td>0</td>\n",
              "      <td>0</td>\n",
              "      <td>0</td>\n",
              "      <td>0</td>\n",
              "      <td>0</td>\n",
              "      <td>0</td>\n",
              "      <td>0</td>\n",
              "      <td>0</td>\n",
              "      <td>0</td>\n",
              "      <td>0</td>\n",
              "      <td>0</td>\n",
              "      <td>0</td>\n",
              "      <td>0</td>\n",
              "      <td>0</td>\n",
              "      <td>0</td>\n",
              "      <td>0</td>\n",
              "      <td>0</td>\n",
              "      <td>0</td>\n",
              "      <td>0</td>\n",
              "      <td>0</td>\n",
              "      <td>0</td>\n",
              "      <td>0</td>\n",
              "      <td>0</td>\n",
              "      <td>0</td>\n",
              "      <td>0</td>\n",
              "      <td>0</td>\n",
              "      <td>...</td>\n",
              "      <td>0</td>\n",
              "      <td>0</td>\n",
              "      <td>0</td>\n",
              "      <td>0</td>\n",
              "      <td>0</td>\n",
              "      <td>0</td>\n",
              "      <td>0</td>\n",
              "      <td>0</td>\n",
              "      <td>0</td>\n",
              "      <td>0</td>\n",
              "      <td>0</td>\n",
              "      <td>0</td>\n",
              "      <td>0</td>\n",
              "      <td>0</td>\n",
              "      <td>0</td>\n",
              "      <td>0</td>\n",
              "      <td>0</td>\n",
              "      <td>0</td>\n",
              "      <td>0</td>\n",
              "      <td>0</td>\n",
              "      <td>0</td>\n",
              "      <td>0</td>\n",
              "      <td>0</td>\n",
              "      <td>0</td>\n",
              "      <td>0</td>\n",
              "      <td>0</td>\n",
              "      <td>0</td>\n",
              "      <td>0</td>\n",
              "      <td>0</td>\n",
              "      <td>0</td>\n",
              "      <td>0</td>\n",
              "      <td>0</td>\n",
              "      <td>0</td>\n",
              "      <td>0</td>\n",
              "      <td>0</td>\n",
              "      <td>0</td>\n",
              "      <td>0</td>\n",
              "      <td>0</td>\n",
              "      <td>0</td>\n",
              "      <td>0</td>\n",
              "    </tr>\n",
              "    <tr>\n",
              "      <th>18180</th>\n",
              "      <td>39.124125</td>\n",
              "      <td>-7.453957</td>\n",
              "      <td>0</td>\n",
              "      <td>0</td>\n",
              "      <td>0</td>\n",
              "      <td>0</td>\n",
              "      <td>0</td>\n",
              "      <td>0</td>\n",
              "      <td>0</td>\n",
              "      <td>0</td>\n",
              "      <td>0</td>\n",
              "      <td>0</td>\n",
              "      <td>0</td>\n",
              "      <td>0</td>\n",
              "      <td>0</td>\n",
              "      <td>0</td>\n",
              "      <td>0</td>\n",
              "      <td>0</td>\n",
              "      <td>0</td>\n",
              "      <td>0</td>\n",
              "      <td>0</td>\n",
              "      <td>0</td>\n",
              "      <td>0</td>\n",
              "      <td>0</td>\n",
              "      <td>0</td>\n",
              "      <td>0</td>\n",
              "      <td>0</td>\n",
              "      <td>0</td>\n",
              "      <td>0</td>\n",
              "      <td>0</td>\n",
              "      <td>0</td>\n",
              "      <td>0</td>\n",
              "      <td>0</td>\n",
              "      <td>0</td>\n",
              "      <td>0</td>\n",
              "      <td>0</td>\n",
              "      <td>0</td>\n",
              "      <td>0</td>\n",
              "      <td>0</td>\n",
              "      <td>0</td>\n",
              "      <td>...</td>\n",
              "      <td>0</td>\n",
              "      <td>0</td>\n",
              "      <td>0</td>\n",
              "      <td>0</td>\n",
              "      <td>0</td>\n",
              "      <td>0</td>\n",
              "      <td>0</td>\n",
              "      <td>0</td>\n",
              "      <td>0</td>\n",
              "      <td>0</td>\n",
              "      <td>0</td>\n",
              "      <td>0</td>\n",
              "      <td>0</td>\n",
              "      <td>0</td>\n",
              "      <td>0</td>\n",
              "      <td>0</td>\n",
              "      <td>0</td>\n",
              "      <td>0</td>\n",
              "      <td>0</td>\n",
              "      <td>0</td>\n",
              "      <td>0</td>\n",
              "      <td>0</td>\n",
              "      <td>0</td>\n",
              "      <td>0</td>\n",
              "      <td>0</td>\n",
              "      <td>0</td>\n",
              "      <td>0</td>\n",
              "      <td>0</td>\n",
              "      <td>0</td>\n",
              "      <td>0</td>\n",
              "      <td>0</td>\n",
              "      <td>0</td>\n",
              "      <td>0</td>\n",
              "      <td>0</td>\n",
              "      <td>0</td>\n",
              "      <td>0</td>\n",
              "      <td>0</td>\n",
              "      <td>0</td>\n",
              "      <td>0</td>\n",
              "      <td>0</td>\n",
              "    </tr>\n",
              "    <tr>\n",
              "      <th>22759</th>\n",
              "      <td>36.316508</td>\n",
              "      <td>-6.103004</td>\n",
              "      <td>0</td>\n",
              "      <td>0</td>\n",
              "      <td>0</td>\n",
              "      <td>0</td>\n",
              "      <td>0</td>\n",
              "      <td>0</td>\n",
              "      <td>0</td>\n",
              "      <td>0</td>\n",
              "      <td>0</td>\n",
              "      <td>0</td>\n",
              "      <td>0</td>\n",
              "      <td>0</td>\n",
              "      <td>0</td>\n",
              "      <td>0</td>\n",
              "      <td>0</td>\n",
              "      <td>0</td>\n",
              "      <td>0</td>\n",
              "      <td>0</td>\n",
              "      <td>0</td>\n",
              "      <td>0</td>\n",
              "      <td>0</td>\n",
              "      <td>0</td>\n",
              "      <td>0</td>\n",
              "      <td>0</td>\n",
              "      <td>0</td>\n",
              "      <td>0</td>\n",
              "      <td>0</td>\n",
              "      <td>0</td>\n",
              "      <td>0</td>\n",
              "      <td>0</td>\n",
              "      <td>0</td>\n",
              "      <td>0</td>\n",
              "      <td>0</td>\n",
              "      <td>0</td>\n",
              "      <td>0</td>\n",
              "      <td>0</td>\n",
              "      <td>0</td>\n",
              "      <td>0</td>\n",
              "      <td>...</td>\n",
              "      <td>0</td>\n",
              "      <td>0</td>\n",
              "      <td>0</td>\n",
              "      <td>0</td>\n",
              "      <td>0</td>\n",
              "      <td>0</td>\n",
              "      <td>0</td>\n",
              "      <td>0</td>\n",
              "      <td>0</td>\n",
              "      <td>0</td>\n",
              "      <td>0</td>\n",
              "      <td>0</td>\n",
              "      <td>0</td>\n",
              "      <td>0</td>\n",
              "      <td>0</td>\n",
              "      <td>0</td>\n",
              "      <td>0</td>\n",
              "      <td>0</td>\n",
              "      <td>0</td>\n",
              "      <td>0</td>\n",
              "      <td>0</td>\n",
              "      <td>0</td>\n",
              "      <td>0</td>\n",
              "      <td>0</td>\n",
              "      <td>0</td>\n",
              "      <td>0</td>\n",
              "      <td>0</td>\n",
              "      <td>0</td>\n",
              "      <td>0</td>\n",
              "      <td>0</td>\n",
              "      <td>0</td>\n",
              "      <td>0</td>\n",
              "      <td>0</td>\n",
              "      <td>0</td>\n",
              "      <td>0</td>\n",
              "      <td>0</td>\n",
              "      <td>0</td>\n",
              "      <td>0</td>\n",
              "      <td>0</td>\n",
              "      <td>0</td>\n",
              "    </tr>\n",
              "  </tbody>\n",
              "</table>\n",
              "<p>5 rows × 2822 columns</p>\n",
              "</div>"
            ],
            "text/plain": [
              "       longitude   latitude  ...  installer_world  installer_world banks\n",
              "3663   34.902651 -11.366890  ...                0                      0\n",
              "46482  35.431369  -7.995626  ...                0                      0\n",
              "48098  29.930444  -4.810484  ...                0                      0\n",
              "18180  39.124125  -7.453957  ...                0                      0\n",
              "22759  36.316508  -6.103004  ...                0                      0\n",
              "\n",
              "[5 rows x 2822 columns]"
            ]
          },
          "metadata": {
            "tags": []
          },
          "execution_count": 6
        }
      ]
    },
    {
      "cell_type": "code",
      "metadata": {
        "id": "FAkKvErmUS-R",
        "colab_type": "code",
        "outputId": "200b213c-f8b0-42fe-cddf-1437cc9eed91",
        "colab": {
          "base_uri": "https://localhost:8080/",
          "height": 87
        }
      },
      "source": [
        "rt = RandomForestClassifier(random_state=42, class_weight='balanced', max_depth=17)\n",
        "rt.fit(X_train1,y_train1)\n",
        "rt.score(X_test1,y_test1)"
      ],
      "execution_count": 0,
      "outputs": [
        {
          "output_type": "stream",
          "text": [
            "/usr/local/lib/python3.6/dist-packages/sklearn/ensemble/forest.py:245: FutureWarning: The default value of n_estimators will change from 10 in version 0.20 to 100 in 0.22.\n",
            "  \"10 in version 0.20 to 100 in 0.22.\", FutureWarning)\n"
          ],
          "name": "stderr"
        },
        {
          "output_type": "execute_result",
          "data": {
            "text/plain": [
              "0.9304876724231563"
            ]
          },
          "metadata": {
            "tags": []
          },
          "execution_count": 10
        }
      ]
    },
    {
      "cell_type": "code",
      "metadata": {
        "id": "FwQwSfw0wXYm",
        "colab_type": "code",
        "outputId": "03126deb-a005-4595-8bc8-d95aaad16674",
        "colab": {
          "base_uri": "https://localhost:8080/",
          "height": 294
        }
      },
      "source": [
        "X_tr = pd.DataFrame(X_train1, columns=['funder', 'installer', 'longitude', 'latitude'])\n",
        "X_te = pd.DataFrame(X_test1, columns=['funder', 'installer', 'longitude', 'latitude'])\n",
        "y_tr = pd.Series(y_train1, name='status_group')\n",
        "y_te = pd.Series(y_test1, name='status_group')\n",
        "\n",
        "X = pd.concat([X_tr, X_te])\n",
        "y= pd.concat([y_tr, y_te])\n",
        "\n",
        "\n",
        "vc_viz = ValidationCurve(RandomForestClassifier(),\n",
        "                        param_name=\"max_depth\",\n",
        "                        param_range=np.arange(1,11),\n",
        "                        cv=10,\n",
        "                    \n",
        "                        n_jobs=-1)\n",
        "\n",
        "vc_viz.fit(X,y)\n",
        "vc_viz.poof();"
      ],
      "execution_count": 0,
      "outputs": [
        {
          "output_type": "display_data",
          "data": {
            "image/png": "[encoded data removed]",
            "text/plain": [
              "<Figure size 432x288 with 1 Axes>"
            ]
          },
          "metadata": {
            "tags": []
          }
        }
      ]
    },
    {
      "cell_type": "code",
      "metadata": {
        "id": "mEfaVkPAZjKN",
        "colab_type": "code",
        "outputId": "e073af8d-dd76-4dc9-8e5f-08d972a17f50",
        "colab": {
          "base_uri": "https://localhost:8080/",
          "height": 225
        }
      },
      "source": [
        "strat_train_set[['funder', 'installer', 'longitude', 'latitude', 'extraction_type', 'source_type']].corr()"
      ],
      "execution_count": 0,
      "outputs": [
        {
          "output_type": "execute_result",
          "data": {
            "text/html": [
              "<div>\n",
              "<style scoped>\n",
              "    .dataframe tbody tr th:only-of-type {\n",
              "        vertical-align: middle;\n",
              "    }\n",
              "\n",
              "    .dataframe tbody tr th {\n",
              "        vertical-align: top;\n",
              "    }\n",
              "\n",
              "    .dataframe thead th {\n",
              "        text-align: right;\n",
              "    }\n",
              "</style>\n",
              "<table border=\"1\" class=\"dataframe\">\n",
              "  <thead>\n",
              "    <tr style=\"text-align: right;\">\n",
              "      <th></th>\n",
              "      <th>funder</th>\n",
              "      <th>installer</th>\n",
              "      <th>longitude</th>\n",
              "      <th>latitude</th>\n",
              "      <th>extraction_type</th>\n",
              "      <th>source_type</th>\n",
              "    </tr>\n",
              "  </thead>\n",
              "  <tbody>\n",
              "    <tr>\n",
              "      <th>funder</th>\n",
              "      <td>1.000000</td>\n",
              "      <td>0.515028</td>\n",
              "      <td>-0.022603</td>\n",
              "      <td>0.006436</td>\n",
              "      <td>0.070582</td>\n",
              "      <td>-0.138885</td>\n",
              "    </tr>\n",
              "    <tr>\n",
              "      <th>installer</th>\n",
              "      <td>0.515028</td>\n",
              "      <td>1.000000</td>\n",
              "      <td>-0.036853</td>\n",
              "      <td>0.055857</td>\n",
              "      <td>0.141499</td>\n",
              "      <td>-0.106956</td>\n",
              "    </tr>\n",
              "    <tr>\n",
              "      <th>longitude</th>\n",
              "      <td>-0.022603</td>\n",
              "      <td>-0.036853</td>\n",
              "      <td>1.000000</td>\n",
              "      <td>-0.263222</td>\n",
              "      <td>0.056100</td>\n",
              "      <td>0.046961</td>\n",
              "    </tr>\n",
              "    <tr>\n",
              "      <th>latitude</th>\n",
              "      <td>0.006436</td>\n",
              "      <td>0.055857</td>\n",
              "      <td>-0.263222</td>\n",
              "      <td>1.000000</td>\n",
              "      <td>-0.016165</td>\n",
              "      <td>0.084724</td>\n",
              "    </tr>\n",
              "    <tr>\n",
              "      <th>extraction_type</th>\n",
              "      <td>0.070582</td>\n",
              "      <td>0.141499</td>\n",
              "      <td>0.056100</td>\n",
              "      <td>-0.016165</td>\n",
              "      <td>1.000000</td>\n",
              "      <td>-0.624990</td>\n",
              "    </tr>\n",
              "    <tr>\n",
              "      <th>source_type</th>\n",
              "      <td>-0.138885</td>\n",
              "      <td>-0.106956</td>\n",
              "      <td>0.046961</td>\n",
              "      <td>0.084724</td>\n",
              "      <td>-0.624990</td>\n",
              "      <td>1.000000</td>\n",
              "    </tr>\n",
              "  </tbody>\n",
              "</table>\n",
              "</div>"
            ],
            "text/plain": [
              "                   funder  installer  ...  extraction_type  source_type\n",
              "funder           1.000000   0.515028  ...         0.070582    -0.138885\n",
              "installer        0.515028   1.000000  ...         0.141499    -0.106956\n",
              "longitude       -0.022603  -0.036853  ...         0.056100     0.046961\n",
              "latitude         0.006436   0.055857  ...        -0.016165     0.084724\n",
              "extraction_type  0.070582   0.141499  ...         1.000000    -0.624990\n",
              "source_type     -0.138885  -0.106956  ...        -0.624990     1.000000\n",
              "\n",
              "[6 rows x 6 columns]"
            ]
          },
          "metadata": {
            "tags": []
          },
          "execution_count": 15
        }
      ]
    },
    {
      "cell_type": "code",
      "metadata": {
        "id": "PsEGoTbX_tS5",
        "colab_type": "code",
        "outputId": "2f19b7a8-9238-4bbb-d901-15c48ba7aa9f",
        "colab": {
          "base_uri": "https://localhost:8080/",
          "height": 322
        }
      },
      "source": [
        "corr = strat_train_set[['funder', 'installer', 'longitude', 'latitude', 'extraction_type', 'source_type']].corr()\n",
        "\n",
        "ax = sns.heatmap(\n",
        "    corr, \n",
        "    vmin=-1, vmax=1, center=0,\n",
        "    cmap=sns.diverging_palette(20, 220, n=200),\n",
        "    square=True\n",
        ")\n",
        "ax.set_xticklabels(\n",
        "    ax.get_xticklabels(),\n",
        "    rotation=45,\n",
        "    horizontalalignment='right'\n",
        ");"
      ],
      "execution_count": 0,
      "outputs": [
        {
          "output_type": "display_data",
          "data": {
            "image/png": "[encoded data removed]",
            "text/plain": [
              "<Figure size 432x288 with 2 Axes>"
            ]
          },
          "metadata": {
            "tags": []
          }
        }
      ]
    },
    {
      "cell_type": "code",
      "metadata": {
        "id": "HlHV4Wqg7o7z",
        "colab_type": "code",
        "outputId": "15c866f0-5b15-4a72-cd6c-b2a277ecda9d",
        "colab": {
          "base_uri": "https://localhost:8080/",
          "height": 286
        }
      },
      "source": [
        "\n",
        "\n",
        "param_grid = {'max_depth': np.linspace(1,20,6)}\n",
        "\n",
        "grid = GridSearchCV(DecisionTreeClassifier(), param_grid, cv=7)\n",
        "grid.fit(X_train1,y_train1)"
      ],
      "execution_count": 0,
      "outputs": [
        {
          "output_type": "execute_result",
          "data": {
            "text/plain": [
              "GridSearchCV(cv=7, error_score='raise-deprecating',\n",
              "             estimator=DecisionTreeClassifier(class_weight=None,\n",
              "                                              criterion='gini', max_depth=None,\n",
              "                                              max_features=None,\n",
              "                                              max_leaf_nodes=None,\n",
              "                                              min_impurity_decrease=0.0,\n",
              "                                              min_impurity_split=None,\n",
              "                                              min_samples_leaf=1,\n",
              "                                              min_samples_split=2,\n",
              "                                              min_weight_fraction_leaf=0.0,\n",
              "                                              presort=False, random_state=None,\n",
              "                                              splitter='best'),\n",
              "             iid='warn', n_jobs=None,\n",
              "             param_grid={'max_depth': array([ 1. ,  4.8,  8.6, 12.4, 16.2, 20. ])},\n",
              "             pre_dispatch='2*n_jobs', refit=True, return_train_score=False,\n",
              "             scoring=None, verbose=0)"
            ]
          },
          "metadata": {
            "tags": []
          },
          "execution_count": 13
        }
      ]
    },
    {
      "cell_type": "code",
      "metadata": {
        "id": "q3nTeKGNCCmi",
        "colab_type": "code",
        "outputId": "e6e3fda4-b265-4c5c-f515-1aa56e62157c",
        "colab": {
          "base_uri": "https://localhost:8080/",
          "height": 34
        }
      },
      "source": [
        "grid.best_params_"
      ],
      "execution_count": 0,
      "outputs": [
        {
          "output_type": "execute_result",
          "data": {
            "text/plain": [
              "{'max_depth': 16.2}"
            ]
          },
          "metadata": {
            "tags": []
          },
          "execution_count": 14
        }
      ]
    }
  ]
}